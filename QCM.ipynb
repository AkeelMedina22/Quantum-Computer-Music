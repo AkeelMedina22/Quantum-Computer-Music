{
 "cells": [
  {
   "cell_type": "markdown",
   "metadata": {},
   "source": [
    "<h1 align=\"center\">\n",
    "Quantum Computer Music\n",
    "</h1>\n",
    "<h4 align=\"right\">\n",
    "Akeel Ather Medina <br>\n",
    "Habib University <br>\n",
    "CS/PHY 314/300 <br>\n",
    "Quantum Computing <br>\n",
    "Fall 2021 <br>\n",
    "</h4>"
   ]
  },
  {
   "cell_type": "markdown",
   "metadata": {},
   "source": [
    "<h2 align=\"center\">\n",
    "Introduction\n",
    "</h2>\n",
    "\n",
    "Since the earliest use of computers, algorithms have been created and used in order to create musical compositions. The kind of algorithm this paper will be focusing on is sequencing rules. A computer is programmed with a certain set of rules that generate a sequence of notes, and they can be in the form of Graphs, Finite State Automata, Markov Chains, etc.\n",
    "\n",
    "## Random Walk\n",
    "\n",
    "A random walk can be defined as a path that consists of a succession of random steps over some space. \n",
    "\n",
    "<figure align = \"center\">\n",
    "  <img src=\"images/Picture1.png\" alt=\"Random Walk\">\n",
    "  <figcaption>Figure #1</figcaption>\n",
    "  <figcaption align=\"center\">Source: Quantum Computer Music: Foundations and Initial Experiments (Miranda, Basak)</figcaption>\n",
    "</figure>\n",
    "\n",
    "Figure 1 depicts a graph of a connected set of notes. A random walk over this graph would results in a sequence of notes that can be considered a musical composition. This is a simple example of algorithmic music generation.\n",
    "\n",
    "## Markov Chains\n",
    "\n",
    "A Markov Chain is a stochastic model that describes a sequence of possible events where the probability of each event depends only on the previous event. The terms 'Markov Chain' and 'Random Walk' can be used interchangeably.\n",
    "\n",
    "<figure align = \"center\">\n",
    "  <img src=\"images/Picture2.png\" alt=\"Markov Chain\">\n",
    "  <figcaption>Figure #2</figcaption>\n",
    "  <figcaption align=\"center\">Source: Quantum Computer Music: Foundations and Initial Experiments (Miranda, Basak)</figcaption>\n",
    "</figure>\n",
    "\n",
    "Figure 2 depicts the Markov Chain representation of the random walk shown in Figure 1.\n",
    "\n",
    "## Quantum Random Walk\n",
    "\n",
    "Quantum Randomness is equivalent to real randomness. Thus, a Quantum Random Walk is truly random. To implement a Quantum Random Walk we can use the idea of a Quantum Die. This die will depend on our number of qubits and the order of For a simple one dimensional random walk such as depicted by Figure 1, we can represent our Quantum Die as such:\n",
    "\n",
    "<figure align = \"center\">\n",
    "  <img src=\"images/Picture4.png\" alt=\"One-Dimensional Quantum Die\">\n",
    "  <figcaption>Figure #3</figcaption>\n",
    "  <figcaption align=\"center\">Source: Quantum Computer Music: Foundations and Initial Experiments (Miranda, Basak)</figcaption>\n",
    "</figure>"
   ]
  },
  {
   "cell_type": "markdown",
   "metadata": {},
   "source": [
    "<h2 align=\"center\">\n",
    "Implementation\n",
    "</h2>"
   ]
  },
  {
   "cell_type": "code",
   "execution_count": 1,
   "metadata": {},
   "outputs": [],
   "source": [
    "from qiskit import QuantumCircuit,QuantumRegister,ClassicalRegister,execute,Aer\n",
    "shot_count = 64"
   ]
  },
  {
   "cell_type": "markdown",
   "metadata": {},
   "source": [
    "When implementing a quantum walk, we want to 'save' the value we receive at the end of each walk. We need each successive circuit to be influenced by this previous value, and this is the necessary circuit that does so. Since a Quantum Circuit starts in the state of $|0⟩$, we add an X gate to every qubit that was previously had a measured value of $|1⟩$."
   ]
  },
  {
   "cell_type": "code",
   "execution_count": 2,
   "metadata": {},
   "outputs": [],
   "source": [
    "def updateCircuit(xbar, bits, cbits=0):\n",
    "\n",
    "    if cbits == 0:\n",
    "        qc1 = QuantumCircuit(bits)\n",
    "    else:\n",
    "        qc1 = QuantumCircuit(bits, cbits)\n",
    "\n",
    "    qc1.barrier()\n",
    "\n",
    "    for i in range(len(xbar)):\n",
    "        if xbar[i] == str(1):\n",
    "            qc1.x(i)\n",
    "    \n",
    "    qc1.barrier()\n",
    "\n",
    "    return qc1"
   ]
  },
  {
   "cell_type": "markdown",
   "metadata": {},
   "source": [
    "<h2 align=\"center\">\n",
    "Quantum Walk over a Tetrahedron\n",
    "</h2>"
   ]
  },
  {
   "cell_type": "markdown",
   "metadata": {},
   "source": [
    "## Creating Sequencing Rules for the Random Walk Corresponding to Vertices on a Tetrahedron \n",
    "\n",
    "A tetrahedron is defined as a triangular pyramid composed of 4 faces and 4 vertex corners. A quantum Walk over these 4 vertices can be represented by 2 qubits. The corresponding notes to these 4 vertices is derived from the Tetratonic C Scale. An Image describing a walk over a tetrahedron is such:\n",
    "\n",
    "<figure align = \"center\">\n",
    "  <img src=\"images/Picture7.png\" alt=\"Random Walk\">\n",
    "  <figcaption>Figure #4</figcaption>\n",
    "</figure>"
   ]
  },
  {
   "cell_type": "code",
   "execution_count": 3,
   "metadata": {},
   "outputs": [],
   "source": [
    "vertices = {}\n",
    "\n",
    "vertices['00'] = 'C'\n",
    "vertices['01'] = 'Eb'\n",
    "vertices['10'] = 'G'\n",
    "vertices['11'] = 'A'\n",
    "\n",
    "rythym = {}\n",
    "\n",
    "rythym['00'] = 1.0\n",
    "rythym['01'] = 0.8\n",
    "rythym['10'] = 0.6\n",
    "rythym['11'] = 0.4"
   ]
  },
  {
   "cell_type": "markdown",
   "metadata": {},
   "source": [
    "## Quantum Walk Circuit over a Tetrahedron\n",
    "\n",
    "The Quantum Walk corresponding to Figure 4 can be implemented as a Quantum circuit with 2 qubits corresponding to each of the 4 vertices and 2 for dice qubits. The dice qubits have 4 possible options:\n",
    "\n",
    "1. The first qubit is flipped.\n",
    "2. The second qubit is flipped.\n",
    "3. Both qubits are flipped.\n",
    "4. No qubit is flipped.\n",
    "\n",
    "To implement this, we first put our dice qubits in a superposition, this enables the 'random' in the 'random walk'. We use controlled-X gates to conditionally flip each, both, or none of the qubits."
   ]
  },
  {
   "cell_type": "code",
   "execution_count": 4,
   "metadata": {},
   "outputs": [],
   "source": [
    "def tetrahedron_measure_dice(input):\n",
    "\n",
    "    q_dice = QuantumCircuit(4,2)\n",
    "\n",
    "    q_inp = updateCircuit(input, 4)\n",
    "\n",
    "    q_dice += q_inp\n",
    "\n",
    "    q_dice.h(2)\n",
    "    q_dice.h(3)\n",
    "\n",
    "    q_dice.cx(2, 0)\n",
    "    q_dice.cx(3, 1)\n",
    "    q_dice.barrier()\n",
    "\n",
    "    return q_dice"
   ]
  },
  {
   "cell_type": "markdown",
   "metadata": {},
   "source": [
    "The circuit will look like this with an input state of $|01⟩$:\n",
    "\n",
    "<figure align = \"center\">\n",
    "  <img src=\"images/Picture5.png\" alt=\"Random Walk\">\n",
    "  <figcaption>Figure #5</figcaption>\n",
    "  <figcaption align=\"center\">Source: Quantum Computer Music: Foundations and Initial Experiments (Miranda, Basak)</figcaption>\n",
    "</figure>"
   ]
  },
  {
   "cell_type": "markdown",
   "metadata": {},
   "source": [
    "## Implementing the Simple Quantum Walk over a Tetrahedron\n",
    "\n",
    "Starting off with the vertex '00', we do a Quantum Random Walk 10 times, passing the current vertex as an argument into our circuit implementation function. At the end of these iterations we convert the vertices to their respective notes and rythyms, as represnted in the dictionaries given above."
   ]
  },
  {
   "cell_type": "code",
   "execution_count": 5,
   "metadata": {},
   "outputs": [
    {
     "name": "stderr",
     "output_type": "stream",
     "text": [
      "C:\\Users\\akeel\\AppData\\Local\\Temp/ipykernel_5328/786390605.py:7: DeprecationWarning: The QuantumCircuit.__iadd__() method is being deprecated. Use the compose() (potentially with the inplace=True argument) and tensor() methods which are more flexible w.r.t circuit register compatibility.\n",
      "  q_dice += q_inp\n",
      "C:\\Users\\akeel\\AppData\\Local\\Programs\\Python\\Python39\\lib\\site-packages\\qiskit\\circuit\\quantumcircuit.py:942: DeprecationWarning: The QuantumCircuit.extend() method is being deprecated. Use the compose() (potentially with the inplace=True argument) and tensor() methods which are more flexible w.r.t circuit register compatibility.\n",
      "  return self.extend(rhs)\n"
     ]
    },
    {
     "name": "stdout",
     "output_type": "stream",
     "text": [
      "['A', 'Eb', 'A', 'A', 'C', 'A', 'C', 'A', 'G', 'Eb']\n",
      "[1.0, 0.4, 0.4, 0.4, 0.6]\n"
     ]
    }
   ],
   "source": [
    "def tetrahedron_quantum_walk():\n",
    "\n",
    "    start = \"00\"\n",
    "    vertex_lst = []\n",
    "    note_lst = []\n",
    "\n",
    "    for i in range(10):\n",
    "\n",
    "        temp = tetrahedron_measure_dice(start)\n",
    "\n",
    "        temp.measure([0, 1],[0, 1])\n",
    "\n",
    "        job = execute(temp,Aer.get_backend('qasm_simulator'),shots=shot_count)\n",
    "        counts = list(job.result().get_counts(temp).items())\n",
    "\n",
    "        counts.sort(key=lambda x: x[1])\n",
    "\n",
    "        start = counts[-1][0]\n",
    "        vertex_lst.append(start)\n",
    "\n",
    "        # display(temp.draw())\n",
    "\n",
    "    for i in vertex_lst:\n",
    "        note_lst.append(vertices[i])\n",
    "\n",
    "    print(note_lst)\n",
    "\n",
    "    start = \"00\"\n",
    "    vertex_lst = []\n",
    "    rythym_lst = []\n",
    "\n",
    "    for i in range(5):\n",
    "\n",
    "        temp = tetrahedron_measure_dice(start)\n",
    "\n",
    "        temp.measure([0, 1],[0, 1])\n",
    "\n",
    "        job = execute(temp,Aer.get_backend('qasm_simulator'),shots=shot_count)\n",
    "        counts = list(job.result().get_counts(temp).items())\n",
    "\n",
    "        counts.sort(key=lambda x: x[1])\n",
    "\n",
    "        start = counts[-1][0]\n",
    "        vertex_lst.append(start)\n",
    "\n",
    "    for i in vertex_lst:\n",
    "        rythym_lst.append(rythym[i])\n",
    "\n",
    "    print(rythym_lst)\n",
    "\n",
    "    return note_lst, rythym_lst\n",
    "\n",
    "notes, rythyms = tetrahedron_quantum_walk()  "
   ]
  },
  {
   "cell_type": "markdown",
   "metadata": {},
   "source": [
    "## Sonic Pi code created Using Quantum Walk over a Tetrahedron\n",
    "\n",
    "We save the code usable with the application, SonicPi, into text files. The sleep function is added in place for the rhythym, and some sustain and bass is also added."
   ]
  },
  {
   "cell_type": "code",
   "execution_count": 6,
   "metadata": {},
   "outputs": [],
   "source": [
    "sonic_note_lst = []\n",
    "for i in zip(notes, rythyms):\n",
    "    sonic_note_lst.append(\"\"\"play :{},sustain:({}),sustain_level:({})\\nsample :bass_hit_c\\nsleep({})\"\"\".format(i[0], i[1], i[1], i[1]))\n",
    "sonic_note_lst = '\\n'.join(sonic_note_lst)\n",
    "\n",
    "a = open(\"SonicPiCode/tetrahedron_notefile.txt\", \"w\")\n",
    "a.write(sonic_note_lst)\n",
    "a.close()"
   ]
  },
  {
   "cell_type": "markdown",
   "metadata": {},
   "source": [
    "<h2 align=\"center\">\n",
    "Quantum Walk over a Cube\n",
    "</h2>"
   ]
  },
  {
   "cell_type": "markdown",
   "metadata": {},
   "source": [
    "## Creating Sequencing Rules for the Random Walk Corresponding to Vertices on a Cube \n",
    "\n",
    "A cube is composed of 6 faces and 8 vertex corners. A quantum Walk over these 8 vertices can be represented by 3 qubits. The corresponding notes, chords and rhythyms to these 6 vertices is derived from the Persian C Octatonic Scale. An Image describing a walk over a cube is such:\n",
    "\n",
    "<figure align = \"center\">\n",
    "  <img src=\"images/Picture3.png\" alt=\"Random Walk\">\n",
    "  <figcaption>Figure #6</figcaption>\n",
    "  <figcaption align=\"center\">Source: Quantum Computer Music: Foundations and Initial Experiments (Miranda, Basak)</figcaption>\n",
    "</figure>\n"
   ]
  },
  {
   "cell_type": "code",
   "execution_count": 7,
   "metadata": {},
   "outputs": [],
   "source": [
    "vertices = {}\n",
    "\n",
    "vertices['000'] = 'C'\n",
    "vertices['001'] = 'Db'\n",
    "vertices['010'] = 'F'\n",
    "vertices['011'] = 'Gb'\n",
    "vertices['100'] = 'E'\n",
    "vertices['101'] = 'B'\n",
    "vertices['110'] = 'Ab'\n",
    "vertices['111'] = 'C'\n",
    "\n",
    "chords = {}\n",
    "\n",
    "chords['000'] = 'C4 major7'\n",
    "chords['001'] = 'D4 minor7'\n",
    "chords['010'] = 'E4 minor7'\n",
    "chords['011'] = 'F4 major7'\n",
    "chords['100'] = 'G4 major7'\n",
    "chords['101'] = 'A4 minor7'\n",
    "chords['110'] = 'B4 diminished7'\n",
    "chords['111'] = 'C4 major7'\n",
    "\n",
    "rythym = {}\n",
    "\n",
    "rythym['000'] = 1.0\n",
    "rythym['001'] = 0.9\n",
    "rythym['010'] = 0.8\n",
    "rythym['011'] = 0.7\n",
    "rythym['100'] = 0.6\n",
    "rythym['101'] = 0.5\n",
    "rythym['110'] = 0.4\n",
    "rythym['111'] = 0.3\n"
   ]
  },
  {
   "cell_type": "markdown",
   "metadata": {},
   "source": [
    "## Quantum Walk Circuit over a Cube\n",
    "\n",
    "A 3-qubit Quantum Walk can be implemented as a Quantum circuit with 3 qubits for measurement and 2 for dice qubits. The dice qubits have 4 possible options:\n",
    "\n",
    "1. The first qubit is flipped.\n",
    "2. The second qubit is flipped.\n",
    "3. The third qubit is flipped.\n",
    "4. No qubit is flipped.\n",
    "\n",
    "To implement this<sup>[1](#f1)</sup>, we first put our dice qubits in a superposition, this enables the 'random' in the 'random walk'. We use controlled-X gates to conditionally flip each of the qubits, However, we must also ensure that 2 or more bits are not flipped at the same time. This order or gates ensured these conditions and allows us to walk over the defined vertices of our cube. \n",
    "\n",
    "<b id=\"f1\">1</b> The circuit implementation has been taken from \"Quantum Computer Music: Foundations and Initial Experiments (Miranda, Basak)\"."
   ]
  },
  {
   "cell_type": "code",
   "execution_count": 8,
   "metadata": {},
   "outputs": [],
   "source": [
    "shot_count = 64\n",
    "def cube_measure_dice(input):\n",
    "\n",
    "    q_dice = QuantumCircuit(5,3)\n",
    "\n",
    "    q_inp = updateCircuit(input, 5)\n",
    "\n",
    "    q_dice += q_inp\n",
    "\n",
    "    q_dice.h(3)\n",
    "    q_dice.h(4)\n",
    "\n",
    "    q_dice.cx(4, 0)\n",
    "    q_dice.x(4)\n",
    "    q_dice.cx(4, 1)\n",
    "    q_dice.cx(3, 2)\n",
    "    q_dice.mcx([4, 3], 1)\n",
    "    q_dice.x(4)\n",
    "    q_dice.mcx([4, 3], 0)\n",
    "    q_dice.x(4)\n",
    "    q_dice.mcx([4, 3], 2)\n",
    "    q_dice.barrier()\n",
    "\n",
    "    return q_dice"
   ]
  },
  {
   "cell_type": "markdown",
   "metadata": {},
   "source": [
    "The circuit will look like this with an input state of $|000⟩$:\n",
    "\n",
    "<figure align = \"center\">\n",
    "  <img src=\"images/Picture8.png\" alt=\"Random Walk\">\n",
    "  <figcaption>Figure #7</figcaption>\n",
    "  <figcaption align=\"center\">Source: Quantum Computer Music: Foundations and Initial Experiments (Miranda, Basak)</figcaption>\n",
    "</figure>"
   ]
  },
  {
   "cell_type": "markdown",
   "metadata": {},
   "source": [
    "## Implementing the Simple Quantum Walk over a Cube\n",
    "\n",
    "Starting off with the vertex '000', we do a Quantum Random Walk 10 times, passing the current vertex as an argument into our circuit implementation function. At the end of these iterations we convert the vertices to their respective notes, chords, and rythyms, as represnted in the dictionaries given above."
   ]
  },
  {
   "cell_type": "code",
   "execution_count": 9,
   "metadata": {},
   "outputs": [
    {
     "name": "stdout",
     "output_type": "stream",
     "text": [
      "['F', 'F', 'Gb', 'Ab', 'Gb', 'E', 'Db', 'C', 'E', 'C']\n",
      "['C4 major7', 'E4 minor7', 'C4 major7', 'C4 major7', 'D4 minor7', 'G4 major7', 'D4 minor7', 'C4 major7', 'E4 minor7', 'B4 diminished7']\n",
      "[0.6, 0.9, 1.0, 0.9, 0.4, 0.8, 1.0, 1.0, 0.9, 0.5]\n"
     ]
    }
   ],
   "source": [
    "def cube_quantum_walk():\n",
    "\n",
    "    start = \"000\"\n",
    "    vertex_lst = []\n",
    "    note_lst = []\n",
    "\n",
    "    for i in range(10):\n",
    "\n",
    "        temp = cube_measure_dice(start)\n",
    "\n",
    "        temp.measure([0, 1, 2],[0, 1, 2])\n",
    "\n",
    "        job = execute(temp,Aer.get_backend('qasm_simulator'),shots=shot_count)\n",
    "        counts = list(job.result().get_counts(temp).items())\n",
    "\n",
    "        counts.sort(key=lambda x: x[1])\n",
    "\n",
    "        start = counts[-1][0]\n",
    "        vertex_lst.append(start)\n",
    "\n",
    "    for i in vertex_lst:\n",
    "        note_lst.append(vertices[i])\n",
    "\n",
    "    print(note_lst)\n",
    "\n",
    "    start = \"000\"\n",
    "    vertex_lst = []\n",
    "    chord_lst = []\n",
    "\n",
    "    for i in range(10):\n",
    "\n",
    "        temp = cube_measure_dice(start)\n",
    "\n",
    "        temp.measure([0, 1, 2],[0, 1, 2])\n",
    "\n",
    "        job = execute(temp,Aer.get_backend('qasm_simulator'),shots=shot_count)\n",
    "        counts = list(job.result().get_counts(temp).items())\n",
    "\n",
    "        counts.sort(key=lambda x: x[1])\n",
    "\n",
    "        start = counts[-1][0]\n",
    "        vertex_lst.append(start)\n",
    "\n",
    "    for i in vertex_lst:\n",
    "        chord_lst.append(chords[i])\n",
    "\n",
    "    print(chord_lst)\n",
    "\n",
    "    start = \"000\"\n",
    "    vertex_lst = []\n",
    "    rythym_lst = []\n",
    "\n",
    "    for i in range(10):\n",
    "\n",
    "        temp = cube_measure_dice(start)\n",
    "\n",
    "        temp.measure([0, 1, 2],[0, 1, 2])\n",
    "\n",
    "        job = execute(temp,Aer.get_backend('qasm_simulator'),shots=shot_count)\n",
    "        counts = list(job.result().get_counts(temp).items())\n",
    "\n",
    "        counts.sort(key=lambda x: x[1])\n",
    "\n",
    "        start = counts[-1][0]\n",
    "        vertex_lst.append(start)\n",
    "\n",
    "    for i in vertex_lst:\n",
    "        rythym_lst.append(rythym[i])\n",
    "\n",
    "    print(rythym_lst)\n",
    "\n",
    "    return note_lst, chord_lst, rythym_lst\n",
    "\n",
    "notes, chords, rythyms = cube_quantum_walk()  "
   ]
  },
  {
   "cell_type": "markdown",
   "metadata": {},
   "source": [
    "## Sonic Pi code created Using Quantum Walk over a Cube\n",
    "\n",
    "We save the code usable with the application, SonicPi, into text files. The sleep function is added in place for the rhythym, and some sustain and bass is also added. The dictionary that maintains the chord list for C major is also used, using the same rhythym values as for the note file."
   ]
  },
  {
   "cell_type": "code",
   "execution_count": 10,
   "metadata": {},
   "outputs": [],
   "source": [
    "sonic_note_lst = []\n",
    "for i in zip(notes, rythyms):\n",
    "    sonic_note_lst.append(\"\"\"play :{},sustain:({}),sustain_level:({})\\nsample :bass_hit_c\\nsleep({})\"\"\".format(i[0], i[1], i[1], i[1]))\n",
    "sonic_note_lst = '\\n'.join(sonic_note_lst)\n",
    "\n",
    "f = open(\"SonicPiCode/cube_notefile.txt\", \"w\")\n",
    "f.write(sonic_note_lst)\n",
    "\n",
    "sonic_chord_lst = []\n",
    "for i in zip(chords, rythyms):\n",
    "    chord_major = i[0].split()\n",
    "    sonic_chord_lst.append(\"\"\"play chord(:{}, :{});sample :bass_hit_c\\nsleep({})\"\"\".format(chord_major[0], chord_major[1], i[1]))\n",
    "sonic_chord_lst = '\\n'.join(sonic_chord_lst)\n",
    "\n",
    "x = open(\"SonicPiCode/cube_chordfile.txt\", \"w\")\n",
    "x.write(sonic_chord_lst)\n",
    "x.close()"
   ]
  },
  {
   "cell_type": "markdown",
   "metadata": {},
   "source": [
    "<h2 align=\"center\">\n",
    "Basak-Miranda Algorithm\n",
    "</h2>\n",
    "\n",
    "The previous examples for the Quantum Random Walk only work in certain spaces given certain conditions. Cubes and Tetrahedrons have a predefined structure that makes the dice representation simple. However, if we try to extend this to other shapes such as a dodecahedron, the dice complexity will increase significantly. To generalize a Quantum Random Walk over any set of sequencing rules, the Basak-Miranda Algorithm makes use of Grover's Search Algorithm to not only construct an equivalent quantum circuit, but also provide a quadratic time speedup. \n",
    "\n",
    "## Grover's Search Algorithm\n",
    "\n",
    "Grover's Search Algorithm is used to provide a quadratic speedup for the following problem statement: Given f: {0,...,N-1} -> {0,1} such that f(x)=1 for exactly one x, find x.\n",
    "\n",
    "In other words, we use this algorithm to return a target state given a large unstructured list. The first step is called Phase Inversion, followed by Inversion about the Mean. The process can be shown in the following figure:\n",
    "\n",
    "<figure align = \"center\">\n",
    "  <img src=\"images/Picture10.png\" alt=\"Grovers Algorithm\">\n",
    "  <figcaption>Figure #8</figcaption>\n",
    "  <figcaption align=\"center\">Source: Intrigano (https://www.youtube.com/watch?v=9WAxOlYBE3g&ab_channel=intrigano)</figcaption>\n",
    "</figure>\n",
    "\n",
    "The first diagram depicts a superposition of all states. Next, the target state has it's amplitude flipped. Finally, all values are inverted about the mean value. Thus, the target value has the highest amplitude, and after enough repetitions of this process, it is very likely that it will be the measured outcome. \n",
    "\n",
    "Grover's Search Algorithm can be applied in the case of algorithmic music generation via sequencing rules. Firstly, we create a Markov Chain based on our chosen sequencing rules. After assigning each state a vertex and maintaining relevant dictionaries, we can choose the target states that have been predefined by our Markov Chain based on the current vertex we are present on. The output of Grover's Search Algorithm will be only the states that have been defined in our sequencing rules. Repeating this process with a new current vertex will give us a musical composition for any kind of sequencing rules. Not just that, but it provides a quadratic time speedup, as well as naturally assigning equal amplitudes, and thus probabilities, to our target states. "
   ]
  },
  {
   "cell_type": "markdown",
   "metadata": {},
   "source": [
    "## Creating Complex Sequencing Rules \n",
    "\n",
    "These sequencing rules are defined in the paper, \"Quantum Computer Music: Foundations and Initial Experiments\" by Miranda and Basak. The rules themselves are maintained in a dictionary, as well as the note to vertex and vertex to note correspondence. The vertex to note dictionary is also maintained in decimal form for convenience.\n"
   ]
  },
  {
   "cell_type": "code",
   "execution_count": 11,
   "metadata": {},
   "outputs": [],
   "source": [
    "notes = [\"E\", \"F\", \"G\", \"C#\", \"F#\", \"D#\", \"G#\", \"D\", \"B\", \"C\", \"A\", \"A#\"]\n",
    "sequencing_rules = {i:[] for i in notes}\n",
    "\n",
    "sequencing_rules[\"E\"] = [\"F\", \"D#\"]\n",
    "sequencing_rules[\"D#\"] = [\"F\", \"C#\", \"F#\", \"G#\"]\n",
    "sequencing_rules[\"C#\"] = [\"G\", \"F#\", \"D#\"]\n",
    "sequencing_rules[\"G\"] = [\"F\", \"C#\", \"D\"]\n",
    "sequencing_rules[\"D\"] = [\"F\", \"G\", \"G#\", \"B\"]\n",
    "sequencing_rules[\"F\"] = [\"E\", \"G\", \"D\", \"C\"]\n",
    "sequencing_rules[\"C\"] = [\"F\", \"F#\", \"B\", \"A\"]\n",
    "sequencing_rules[\"F#\"] = [\"C#\", \"D#\", \"C\", \"A\"]\n",
    "sequencing_rules[\"A\"] = [\"F#\", \"G#\", \"C\", \"A#\"]\n",
    "sequencing_rules[\"G#\"] = [\"D#\", \"D\", \"B\", \"A\"]\n",
    "sequencing_rules[\"B\"] = [\"G#\", \"D\", \"C\", \"A#\"]\n",
    "sequencing_rules[\"A#\"] = [\"B\", \"A\"]\n",
    "\n",
    "note_to_vertex = {}\n",
    "\n",
    "note_to_vertex[\"E\"] = \"0000\"\n",
    "note_to_vertex[\"F\"] = \"0001\"\n",
    "note_to_vertex[\"G\"] = \"0010\"\n",
    "note_to_vertex[\"C#\"] = \"0011\"\n",
    "note_to_vertex[\"F#\"] = \"0100\"\n",
    "note_to_vertex[\"D#\"] = \"0101\"\n",
    "note_to_vertex[\"G#\"] = \"0110\"\n",
    "note_to_vertex[\"D\"] = \"0111\"\n",
    "note_to_vertex[\"B\"] = \"1000\"\n",
    "note_to_vertex[\"C\"] = \"1001\"\n",
    "note_to_vertex[\"A\"] = \"1010\"\n",
    "note_to_vertex[\"A#\"] = \"1011\"\n",
    "\n",
    "vertex_to_note = {}\n",
    "\n",
    "vertex_to_note[\"0000\"] = \"E\"\n",
    "vertex_to_note[\"0001\"] = \"F\"\n",
    "vertex_to_note[\"0010\"] = \"G\"\n",
    "vertex_to_note[\"0011\"] = \"C#\"\n",
    "vertex_to_note[\"0100\"] = \"F#\"\n",
    "vertex_to_note[\"0101\"] = \"D#\"\n",
    "vertex_to_note[\"0110\"] = \"G#\"\n",
    "vertex_to_note[\"0111\"] = \"D\"\n",
    "vertex_to_note[\"1000\"] = \"B\"\n",
    "vertex_to_note[\"1001\"] = \"C\"\n",
    "vertex_to_note[\"1010\"] = \"A\"\n",
    "vertex_to_note[\"1011\"] = \"A#\"\n",
    "vertex_to_note[\"1100\"] = \"E\"\n",
    "vertex_to_note[\"1101\"] = \"F\"\n",
    "vertex_to_note[\"1110\"] = \"G\"\n",
    "vertex_to_note[\"1111\"] = \"C#\"\n",
    "\n",
    "vertices = {}\n",
    "\n",
    "vertices[0] = \"E\"\n",
    "vertices[1] = \"F\"\n",
    "vertices[2] = \"G\"\n",
    "vertices[3] = \"C#\"\n",
    "vertices[4] = \"F#\"\n",
    "vertices[5] = \"D#\"\n",
    "vertices[6] = \"G#\"\n",
    "vertices[7] = \"D\"\n",
    "vertices[8] = \"B\"\n",
    "vertices[9] = \"C\"\n",
    "vertices[10] = \"A\"\n",
    "vertices[11] = \"A#\""
   ]
  },
  {
   "cell_type": "markdown",
   "metadata": {},
   "source": [
    "## Creating a Markov Chain"
   ]
  },
  {
   "cell_type": "code",
   "execution_count": 12,
   "metadata": {},
   "outputs": [],
   "source": [
    "def markov():\n",
    "\n",
    "    markov = [[0 for i in range(len(sequencing_rules.keys()))] for i in range(len(sequencing_rules.keys()))]\n",
    "\n",
    "    for i, j in vertices.items():\n",
    "        \n",
    "        for x in range(len(markov[i])):\n",
    "\n",
    "            if vertices[x] in sequencing_rules[vertices[i]]:\n",
    "\n",
    "                markov[i][x] = round(1/len(sequencing_rules[vertices[i]]), 2)\n",
    "\n",
    "    return markov    "
   ]
  },
  {
   "cell_type": "markdown",
   "metadata": {},
   "source": [
    "## Building the Circuit for the Basak-Miranda Algorithm\n",
    "\n",
    "The first step of Grover's Search Algorithm, Phase Inversion, can be implemented with the use of X Gates and MCX Gates. After initializing the circuit in a superposition of states, wherever there is a 1, an X gate is applied. We have an extra qubit than measured qubits, which is initialized in the $|->$ state, and the target qubit of the MCX gate is on this extra qubit. X gates are reapplied in the same way, as well as Hadamard gates. What this circuit will do is flip the target states. To do it for multiple target states, we repeat it as many times as target states.\n",
    "\n",
    "Next, we create the circuit to implement Inversion about the Mean. The source of this circuit was taken from Qiskit<sup>[1](#f1)</sup>, and the idea is to implement a Diffuser that can be created by Hadamard and X gates, followed by a Hadamard, MCT, and Hadamard gate on the second last qubit, finally reapplying the X and Hadamard gates.\n",
    "\n",
    "<b id=\"f1\">1</b> Source: https://qiskit.org/textbook/ch-algorithms/grover.html."
   ]
  },
  {
   "cell_type": "code",
   "execution_count": 13,
   "metadata": {},
   "outputs": [],
   "source": [
    "def basak_miranda_circuit(input):\n",
    "\n",
    "    qc = QuantumCircuit(5,4)\n",
    "\n",
    "    qc.x(4)\n",
    "    for qubit in range(5):\n",
    "        qc.h(qubit)\n",
    "\n",
    "    qc.barrier()\n",
    "    for i in input:\n",
    "\n",
    "        flip = []\n",
    "\n",
    "        for j in range(len(i)):\n",
    "            if i[j] == '1':\n",
    "                flip.append(j)\n",
    "\n",
    "        for j in flip:\n",
    "            qc.x(j)\n",
    "\n",
    "        if len(flip) >= 1:\n",
    "            qc.mcx(flip, 4)\n",
    "        \n",
    "        for j in flip:\n",
    "            qc.x(j)\n",
    "\n",
    "        qc.barrier()\n",
    "\n",
    "    for qubit in range(4):\n",
    "        qc.h(qubit)\n",
    "    \n",
    "\n",
    "    qc.barrier()\n",
    "    for qubit in range(4):\n",
    "        qc.h(qubit)\n",
    "    \n",
    "    for qubit in range(4):\n",
    "        qc.x(qubit)\n",
    "\n",
    "    qc.barrier()\n",
    "    qc.h(3)\n",
    "    qc.mct([0,1,2], 3)\n",
    "    qc.h(3)\n",
    "    qc.barrier()\n",
    "\n",
    "    for qubit in range(4):\n",
    "        qc.x(qubit)\n",
    "\n",
    "    for qubit in range(4):\n",
    "        qc.h(qubit)\n",
    "    qc.barrier()\n",
    "\n",
    "    return qc"
   ]
  },
  {
   "cell_type": "markdown",
   "metadata": {},
   "source": [
    "## Implementing the Basak-Miranda Algorithm\n",
    "\n",
    "Starting off with the vertex '0000', we do a Quantum Random Walk 10 times, passing the target states as an argument into our circuit implementation function. We find these target states by referring to positive values in our markov chain for each current vertex. At the end of these iterations we convert the vertices to their respective notes and rythyms, as represnted in the dictionaries given above."
   ]
  },
  {
   "cell_type": "code",
   "execution_count": 14,
   "metadata": {},
   "outputs": [
    {
     "name": "stdout",
     "output_type": "stream",
     "text": [
      "['1000', '0001', '0000', '1000', '0010', '1000', '0010', '1000', '0001', '0000']\n"
     ]
    }
   ],
   "source": [
    "def quantum_walk():\n",
    "\n",
    "    start = \"0000\"\n",
    "    vertex_lst = []\n",
    "    note_lst = []\n",
    "    markov_chain = markov()\n",
    "\n",
    "    for i in range(10):\n",
    "\n",
    "        target_states = []\n",
    "\n",
    "        for j in range(len(markov_chain[notes.index(vertex_to_note[start])])):\n",
    "            if markov_chain[notes.index(vertex_to_note[start])][j] > 0:\n",
    "                target_states.append(note_to_vertex[notes[j]])\n",
    "                \n",
    "        temp = basak_miranda_circuit(target_states)\n",
    "        \n",
    "        temp.measure(range(4),range(4))\n",
    "\n",
    "        job = execute(temp,Aer.get_backend('qasm_simulator'),shots=50000)\n",
    "        counts = list(job.result().get_counts(temp).items())\n",
    "\n",
    "        counts.sort(key=lambda x: x[1])\n",
    "\n",
    "        i = -1\n",
    "        while counts[i][0] in ['1111', '1110', '1101', '1100']:\n",
    "            i+=1\n",
    "        start = counts[i][0]\n",
    "        vertex_lst.append(start)\n",
    "\n",
    "    for i in vertex_lst:\n",
    "        if i in vertex_to_note:\n",
    "            note_lst.append(vertex_to_note[i])\n",
    "        \n",
    "    print(vertex_lst)\n",
    "    \n",
    "    return note_lst\n",
    "\n",
    "notes = quantum_walk()"
   ]
  },
  {
   "cell_type": "markdown",
   "metadata": {},
   "source": [
    "## Sonic Pi code created Using Basak-Miranda Algorithm\n",
    "\n",
    "We save the code usable with the application, SonicPi, into text files. The sleep function is added in place for the rhythym, and some sustain and bass is also added. "
   ]
  },
  {
   "cell_type": "code",
   "execution_count": 15,
   "metadata": {},
   "outputs": [],
   "source": [
    "sonic_note_lst = []\n",
    "for i in zip(notes, rythyms):\n",
    "    sonic_note_lst.append(\"\"\"play :{},sustain:({}),sustain_level:({})\\nsample :bass_hit_c\\nsleep({})\"\"\".format(i[0], i[1], i[1], i[1]))\n",
    "sonic_note_lst = '\\n'.join(sonic_note_lst)\n",
    "\n",
    "f = open(\"SonicPiCode/basak_miranda_notefile.txt\", \"w\")\n",
    "f.write(sonic_note_lst)\n",
    "f.close()"
   ]
  },
  {
   "cell_type": "markdown",
   "metadata": {},
   "source": [
    "<h2 align=\"center\">\n",
    "Conclusion\n",
    "</h2>\n",
    "\n",
    "To conclude this paper, I will firs summarize the main results and takeaways from this project. The main goal throughout all this was to generate a musical composition. This comprises of, but is not limited to, notes and rhythyms. As an extra result, musical composition containing purely chords was also created for a Quantum Random Walk over a Cube. Moving on to theh more complex sequencing rules, Grover's Algorithm was implemented to generate a musical composition. However, there were issues in implementation, and the resulting circuit produces incorrect transitions between states, based on predefined sequencing rules. \n",
    "One of the main results from this project, however, is that a quantum circuit was able to be generated for a Tetrahedron. The cited and followed research paper creates a quantum dice for a cube, and it is possible to create quantum dice for other figures. Further research could be conducted on generalising the idea of a quantum die over platonic solids (tetrahedron, cube, etc.). \n",
    "Using SonicPi for music creation allows for much more creativity, especicially over the traditional method of 'beep-ing' the frequency corresponding to a note. SonicPi allows for chords to be played without mentioning the corresponding notes. It allows simultaneous playback, and interesting elements such as sustain and bass. \n",
    "\n",
    "Overall, Quantum Computer Music is a new and exciting way of using a well-known algorithm to allow convenience and quadratic time speedup in something one would not expect a Quantum Computer to provide specific use. Miranda and Basak have created an algorithm and exposed the world to a new and creative use of Quantum Circuits. The use of Quantum Dice and Quantum Random Walks could further have use in many different, and possibly unrelated, fields."
   ]
  },
  {
   "cell_type": "markdown",
   "metadata": {},
   "source": [
    "<h2 align=\"center\">\n",
    "References\n",
    "</h2>\n",
    "\n",
    "1. Quantum Computer Music: Foundations and Initial Experiments (Miranda, Basak)\n",
    "2. Intrigano (https://www.youtube.com/watch?v=9WAxOlYBE3g&ab_channel=intrigano)\n",
    "3. Grover's Search Algorithm- Qiskit (https://qiskit.org/textbook/ch-algorithms/grover.html)\n"
   ]
  }
 ],
 "metadata": {
  "interpreter": {
   "hash": "376e2f3b0f93b7f3d55cb5c9b5c317c5374d9f51a324c228d8b82aaad3095960"
  },
  "kernelspec": {
   "display_name": "Python 3.9.7 64-bit",
   "language": "python",
   "name": "python3"
  },
  "language_info": {
   "codemirror_mode": {
    "name": "ipython",
    "version": 3
   },
   "file_extension": ".py",
   "mimetype": "text/x-python",
   "name": "python",
   "nbconvert_exporter": "python",
   "pygments_lexer": "ipython3",
   "version": "3.9.7"
  },
  "orig_nbformat": 4
 },
 "nbformat": 4,
 "nbformat_minor": 2
}
